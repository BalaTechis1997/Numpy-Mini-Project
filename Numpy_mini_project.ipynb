{
  "nbformat": 4,
  "nbformat_minor": 0,
  "metadata": {
    "colab": {
      "name": "Numpy mini project.ipynb",
      "provenance": [],
      "collapsed_sections": [],
      "authorship_tag": "ABX9TyOqf4Bbi2LAdLdioSi+EFTM",
      "include_colab_link": true
    },
    "kernelspec": {
      "name": "python3",
      "display_name": "Python 3"
    },
    "language_info": {
      "name": "python"
    }
  },
  "cells": [
    {
      "cell_type": "markdown",
      "metadata": {
        "id": "view-in-github",
        "colab_type": "text"
      },
      "source": [
        "<a href=\"https://colab.research.google.com/github/BalaTechis1997/Numpy-Mini-Project/blob/main/Numpy_mini_project.ipynb\" target=\"_parent\"><img src=\"https://colab.research.google.com/assets/colab-badge.svg\" alt=\"Open In Colab\"/></a>"
      ]
    },
    {
      "cell_type": "code",
      "metadata": {
        "colab": {
          "base_uri": "https://localhost:8080/",
          "height": 436
        },
        "id": "yXS40GCf8nKw",
        "outputId": "c72c53fc-a9e3-40f3-e380-524264457fa6"
      },
      "source": [
        "#Mini Project on Numpy\n",
        "# Read the Data\n",
        "\n",
        "import numpy as np\n",
        "import pandas as pd\n",
        "df=pd.read_csv(\"makeSenseOfCensus.csv\")\n",
        "df"
      ],
      "execution_count": 4,
      "outputs": [
        {
          "output_type": "execute_result",
          "data": {
            "text/html": [
              "<div>\n",
              "<style scoped>\n",
              "    .dataframe tbody tr th:only-of-type {\n",
              "        vertical-align: middle;\n",
              "    }\n",
              "\n",
              "    .dataframe tbody tr th {\n",
              "        vertical-align: top;\n",
              "    }\n",
              "\n",
              "    .dataframe thead th {\n",
              "        text-align: right;\n",
              "    }\n",
              "</style>\n",
              "<table border=\"1\" class=\"dataframe\">\n",
              "  <thead>\n",
              "    <tr style=\"text-align: right;\">\n",
              "      <th></th>\n",
              "      <th>age</th>\n",
              "      <th>education-num</th>\n",
              "      <th>race</th>\n",
              "      <th>sex</th>\n",
              "      <th>capital-gain</th>\n",
              "      <th>capital-loss</th>\n",
              "      <th>hours-per-week</th>\n",
              "      <th>income</th>\n",
              "    </tr>\n",
              "  </thead>\n",
              "  <tbody>\n",
              "    <tr>\n",
              "      <th>0</th>\n",
              "      <td>39</td>\n",
              "      <td>13</td>\n",
              "      <td>4</td>\n",
              "      <td>1</td>\n",
              "      <td>2174</td>\n",
              "      <td>0</td>\n",
              "      <td>40</td>\n",
              "      <td>0</td>\n",
              "    </tr>\n",
              "    <tr>\n",
              "      <th>1</th>\n",
              "      <td>50</td>\n",
              "      <td>13</td>\n",
              "      <td>4</td>\n",
              "      <td>1</td>\n",
              "      <td>0</td>\n",
              "      <td>0</td>\n",
              "      <td>13</td>\n",
              "      <td>0</td>\n",
              "    </tr>\n",
              "    <tr>\n",
              "      <th>2</th>\n",
              "      <td>38</td>\n",
              "      <td>9</td>\n",
              "      <td>4</td>\n",
              "      <td>1</td>\n",
              "      <td>0</td>\n",
              "      <td>0</td>\n",
              "      <td>40</td>\n",
              "      <td>0</td>\n",
              "    </tr>\n",
              "    <tr>\n",
              "      <th>3</th>\n",
              "      <td>53</td>\n",
              "      <td>7</td>\n",
              "      <td>2</td>\n",
              "      <td>1</td>\n",
              "      <td>0</td>\n",
              "      <td>0</td>\n",
              "      <td>40</td>\n",
              "      <td>0</td>\n",
              "    </tr>\n",
              "    <tr>\n",
              "      <th>4</th>\n",
              "      <td>28</td>\n",
              "      <td>13</td>\n",
              "      <td>2</td>\n",
              "      <td>0</td>\n",
              "      <td>0</td>\n",
              "      <td>0</td>\n",
              "      <td>40</td>\n",
              "      <td>0</td>\n",
              "    </tr>\n",
              "    <tr>\n",
              "      <th>...</th>\n",
              "      <td>...</td>\n",
              "      <td>...</td>\n",
              "      <td>...</td>\n",
              "      <td>...</td>\n",
              "      <td>...</td>\n",
              "      <td>...</td>\n",
              "      <td>...</td>\n",
              "      <td>...</td>\n",
              "    </tr>\n",
              "    <tr>\n",
              "      <th>995</th>\n",
              "      <td>56</td>\n",
              "      <td>9</td>\n",
              "      <td>4</td>\n",
              "      <td>1</td>\n",
              "      <td>0</td>\n",
              "      <td>0</td>\n",
              "      <td>55</td>\n",
              "      <td>1</td>\n",
              "    </tr>\n",
              "    <tr>\n",
              "      <th>996</th>\n",
              "      <td>45</td>\n",
              "      <td>14</td>\n",
              "      <td>4</td>\n",
              "      <td>1</td>\n",
              "      <td>0</td>\n",
              "      <td>0</td>\n",
              "      <td>45</td>\n",
              "      <td>0</td>\n",
              "    </tr>\n",
              "    <tr>\n",
              "      <th>997</th>\n",
              "      <td>48</td>\n",
              "      <td>13</td>\n",
              "      <td>4</td>\n",
              "      <td>1</td>\n",
              "      <td>0</td>\n",
              "      <td>0</td>\n",
              "      <td>58</td>\n",
              "      <td>1</td>\n",
              "    </tr>\n",
              "    <tr>\n",
              "      <th>998</th>\n",
              "      <td>40</td>\n",
              "      <td>10</td>\n",
              "      <td>4</td>\n",
              "      <td>1</td>\n",
              "      <td>2580</td>\n",
              "      <td>0</td>\n",
              "      <td>40</td>\n",
              "      <td>0</td>\n",
              "    </tr>\n",
              "    <tr>\n",
              "      <th>999</th>\n",
              "      <td>39</td>\n",
              "      <td>13</td>\n",
              "      <td>4</td>\n",
              "      <td>1</td>\n",
              "      <td>15024</td>\n",
              "      <td>0</td>\n",
              "      <td>50</td>\n",
              "      <td>1</td>\n",
              "    </tr>\n",
              "  </tbody>\n",
              "</table>\n",
              "<p>1000 rows × 8 columns</p>\n",
              "</div>"
            ],
            "text/plain": [
              "     age  education-num  race  ...  capital-loss  hours-per-week  income\n",
              "0     39             13     4  ...             0              40       0\n",
              "1     50             13     4  ...             0              13       0\n",
              "2     38              9     4  ...             0              40       0\n",
              "3     53              7     2  ...             0              40       0\n",
              "4     28             13     2  ...             0              40       0\n",
              "..   ...            ...   ...  ...           ...             ...     ...\n",
              "995   56              9     4  ...             0              55       1\n",
              "996   45             14     4  ...             0              45       0\n",
              "997   48             13     4  ...             0              58       1\n",
              "998   40             10     4  ...             0              40       0\n",
              "999   39             13     4  ...             0              50       1\n",
              "\n",
              "[1000 rows x 8 columns]"
            ]
          },
          "metadata": {},
          "execution_count": 4
        }
      ]
    },
    {
      "cell_type": "code",
      "metadata": {
        "colab": {
          "base_uri": "https://localhost:8080/"
        },
        "id": "aHrySHpI-iEX",
        "outputId": "30507d19-a807-47e8-b5b2-94141f2218ce"
      },
      "source": [
        "# Append the data\n",
        "\n",
        "new_record=np.array([[50, 9, 4, 1, 0, 0, 40, 0]])\n",
        "df=np.concatenate((df,new_record),axis=0)\n",
        "df"
      ],
      "execution_count": 5,
      "outputs": [
        {
          "output_type": "execute_result",
          "data": {
            "text/plain": [
              "array([[39, 13,  4, ...,  0, 40,  0],\n",
              "       [50, 13,  4, ...,  0, 13,  0],\n",
              "       [38,  9,  4, ...,  0, 40,  0],\n",
              "       ...,\n",
              "       [40, 10,  4, ...,  0, 40,  0],\n",
              "       [39, 13,  4, ...,  0, 50,  1],\n",
              "       [50,  9,  4, ...,  0, 40,  0]])"
            ]
          },
          "metadata": {},
          "execution_count": 5
        }
      ]
    },
    {
      "cell_type": "code",
      "metadata": {
        "colab": {
          "base_uri": "https://localhost:8080/"
        },
        "id": "6xKhsBTh_czo",
        "outputId": "d5ec1ce6-51f7-482d-9265-bd84ce7cd795"
      },
      "source": [
        "# Check if it's a young country or old country\n",
        "\n",
        "#Create a new array called 'age' by taking only age column(age is the column with index 0) of 'census' array.\n",
        "\n",
        "age=df[:,0]\n",
        "age"
      ],
      "execution_count": 6,
      "outputs": [
        {
          "output_type": "execute_result",
          "data": {
            "text/plain": [
              "array([39, 50, 38, ..., 40, 39, 50])"
            ]
          },
          "metadata": {},
          "execution_count": 6
        }
      ]
    },
    {
      "cell_type": "markdown",
      "metadata": {
        "id": "wfWnHWKTAC_x"
      },
      "source": [
        "Find the max age and store it in a variable called 'max_age'."
      ]
    },
    {
      "cell_type": "code",
      "metadata": {
        "colab": {
          "base_uri": "https://localhost:8080/"
        },
        "id": "yWEIXbzrAH0s",
        "outputId": "f6a4939a-0bad-48ba-dbf4-55dd5aea5b4a"
      },
      "source": [
        "max_age=age.max()\n",
        "max_age"
      ],
      "execution_count": 7,
      "outputs": [
        {
          "output_type": "execute_result",
          "data": {
            "text/plain": [
              "90"
            ]
          },
          "metadata": {},
          "execution_count": 7
        }
      ]
    },
    {
      "cell_type": "markdown",
      "metadata": {
        "id": "Id22oLM2AXoa"
      },
      "source": [
        "Find the min age and store it in a variable called 'min_age'."
      ]
    },
    {
      "cell_type": "code",
      "metadata": {
        "colab": {
          "base_uri": "https://localhost:8080/"
        },
        "id": "wgkeBx_zAes8",
        "outputId": "aac516f6-88c1-4b7a-a5fa-85415d05631e"
      },
      "source": [
        "min_age=age.min()\n",
        "min_age"
      ],
      "execution_count": 8,
      "outputs": [
        {
          "output_type": "execute_result",
          "data": {
            "text/plain": [
              "17"
            ]
          },
          "metadata": {},
          "execution_count": 8
        }
      ]
    },
    {
      "cell_type": "markdown",
      "metadata": {
        "id": "bNWVNrCEAkl3"
      },
      "source": [
        "Find the mean of the age and store it in a variable called 'age_mean'."
      ]
    },
    {
      "cell_type": "code",
      "metadata": {
        "colab": {
          "base_uri": "https://localhost:8080/"
        },
        "id": "IPVm7PMpApSo",
        "outputId": "740f50e5-a2ec-4646-aeee-ac89329a9482"
      },
      "source": [
        "mean_age=age.mean()\n",
        "mean_age"
      ],
      "execution_count": 9,
      "outputs": [
        {
          "output_type": "execute_result",
          "data": {
            "text/plain": [
              "38.06293706293706"
            ]
          },
          "metadata": {},
          "execution_count": 9
        }
      ]
    },
    {
      "cell_type": "markdown",
      "metadata": {
        "id": "tT0JJQK8Au1C"
      },
      "source": [
        "Find the standard deviation of the age and store it in a variable called 'age_std'"
      ]
    },
    {
      "cell_type": "code",
      "metadata": {
        "colab": {
          "base_uri": "https://localhost:8080/"
        },
        "id": "MdJztdUNAyzA",
        "outputId": "bcc07616-a197-4a3d-f62f-a10534dec7cc"
      },
      "source": [
        "std_age=np.std(age)\n",
        "print(std_age)"
      ],
      "execution_count": 10,
      "outputs": [
        {
          "output_type": "stream",
          "name": "stdout",
          "text": [
            "13.341478176165857\n"
          ]
        }
      ]
    },
    {
      "cell_type": "markdown",
      "metadata": {
        "id": "zsT-YzCnBDCN"
      },
      "source": [
        "Let's check the country's race distribution to identify the minorities"
      ]
    },
    {
      "cell_type": "markdown",
      "metadata": {
        "id": "OFc80fwXBQ52"
      },
      "source": [
        "Create four different arrays by subsetting 'census' array by Race column(Race is the column with index 2) and save them in 'race_0','race_1', 'race_2', 'race_3' and 'race_4' respectively(Meaning: Store the array where 'race'column has value 0 in 'race_0', so on and so forth)"
      ]
    },
    {
      "cell_type": "code",
      "metadata": {
        "id": "JFYj_Y0JBStr",
        "colab": {
          "base_uri": "https://localhost:8080/"
        },
        "outputId": "5057df18-ccaf-4454-c9ed-62d654ba4677"
      },
      "source": [
        "#Array Creation:Race 0\n",
        "race_0=df[df[:,2]==0]\n",
        "print(race_0)"
      ],
      "execution_count": 11,
      "outputs": [
        {
          "output_type": "stream",
          "name": "stdout",
          "text": [
            "[[34  4  0  1  0  0 45  0]\n",
            " [35 10  0  0  0  0 40  0]\n",
            " [60  6  0  0  0  0 10  0]\n",
            " [51  9  0  1  0  0 40  0]\n",
            " [25 10  0  0  0  0 20  0]\n",
            " [20  9  0  1  0  0 48  0]\n",
            " [23 10  0  0  0  0 25  0]\n",
            " [29  9  0  1  0  0 40  0]\n",
            " [27 12  0  1  0  0 40  0]\n",
            " [31 12  0  0  0  0 40  0]]\n"
          ]
        }
      ]
    },
    {
      "cell_type": "code",
      "metadata": {
        "colab": {
          "base_uri": "https://localhost:8080/"
        },
        "id": "6IWkj7FKChY5",
        "outputId": "06f7ec7e-6ba1-497f-dce5-cca607eb1b70"
      },
      "source": [
        "#Array Creation:Race 1\n",
        "race_1=df[df[:,2]==1]\n",
        "print(race_1)"
      ],
      "execution_count": 12,
      "outputs": [
        {
          "output_type": "stream",
          "name": "stdout",
          "text": [
            "[[  30   13    1    1    0    0   40    1]\n",
            " [  40   11    1    1    0    0   40    1]\n",
            " [  54   10    1    1    0    0   60    1]\n",
            " [  30    9    1    0    0 1573   35    0]\n",
            " [  49   10    1    1    0    0   40    1]\n",
            " [  33   13    1    0    0    0   40    0]\n",
            " [  44   14    1    0    0    0   40    0]\n",
            " [  28    9    1    0    0    0   40    0]\n",
            " [  60    9    1    1    0    0   40    0]\n",
            " [  42    9    1    1    0    0   40    1]\n",
            " [  37   10    1    1    0    0   75    1]\n",
            " [  39   14    1    0 3464    0   40    0]\n",
            " [  21   10    1    0    0    0   25    0]\n",
            " [  24   10    1    0    0    0   40    0]\n",
            " [  34   14    1    1 7298    0   35    1]\n",
            " [  27   10    1    1    0 1980   40    0]\n",
            " [  40   11    1    1    0    0   40    1]\n",
            " [  55    9    1    0    0    0   40    0]\n",
            " [  35   16    1    1    0    0   40    1]\n",
            " [  29   10    1    0    0    0   40    0]\n",
            " [  20    7    1    0    0 1762   40    0]\n",
            " [  55   10    1    0    0    0   40    0]\n",
            " [  51   13    1    1    0 2415   40    1]\n",
            " [  28   11    1    0    0    0   40    0]\n",
            " [  43   14    1    0    0    0   50    0]\n",
            " [  67    9    1    1    0    0   40    1]\n",
            " [  48   13    1    1    0    0   40    1]]\n"
          ]
        }
      ]
    },
    {
      "cell_type": "code",
      "metadata": {
        "colab": {
          "base_uri": "https://localhost:8080/"
        },
        "id": "T70TRL3KCnBd",
        "outputId": "11b2bec8-9e66-44dd-8f60-8eb0062af914"
      },
      "source": [
        "#Array Creation:Race 2\n",
        "race_2=df[df[:,2]==2]\n",
        "print(race_2)"
      ],
      "execution_count": 13,
      "outputs": [
        {
          "output_type": "stream",
          "name": "stdout",
          "text": [
            "[[  53    7    2    1    0    0   40    0]\n",
            " [  28   13    2    0    0    0   40    0]\n",
            " [  49    5    2    0    0    0   16    0]\n",
            " [  37   10    2    1    0    0   80    1]\n",
            " [  32   12    2    1    0    0   50    0]\n",
            " [  54    9    2    0    0    0   20    0]\n",
            " [  35    5    2    1    0    0   40    0]\n",
            " [  20   10    2    1    0    0   44    0]\n",
            " [  22   10    2    1    0    0   15    0]\n",
            " [  57   13    2    1    0    0   40    1]\n",
            " [  31   13    2    0    0    0   40    0]\n",
            " [  28   10    2    0    0    0   25    0]\n",
            " [  32    9    2    1    0    0   40    0]\n",
            " [  49   11    2    1    0    0   40    1]\n",
            " [  30   13    2    1    0    0   40    0]\n",
            " [  19   10    2    1    0    0   35    0]\n",
            " [  46   12    2    0    0    0   36    0]\n",
            " [  31    9    2    0    0    0   30    0]\n",
            " [  71   10    2    1    0 1816    2    0]\n",
            " [  42   13    2    1    0    0   50    0]\n",
            " [  21    9    2    1    0    0   40    0]\n",
            " [  34    9    2    1    0    0   40    0]\n",
            " [  44   10    2    1    0    0   38    1]\n",
            " [  30   10    2    1    0    0   45    0]\n",
            " [  34    9    2    1    0    0   40    0]\n",
            " [  38   10    2    0    0    0   28    0]\n",
            " [  41   13    2    1    0    0   40    0]\n",
            " [  36   13    2    1 7298    0   36    1]\n",
            " [  44    9    2    1    0    0   40    0]\n",
            " [  37   13    2    1    0    0   60    1]\n",
            " [  90    9    2    1    0 2206   40    0]\n",
            " [  54    9    2    1    0    0   20    0]\n",
            " [  35    7    2    1 3674    0   40    0]\n",
            " [  41    9    2    0    0    0   38    0]\n",
            " [  42   13    2    0    0    0   40    0]\n",
            " [  59    6    2    0    0    0   30    0]\n",
            " [  43    9    2    1    0    0   40    0]\n",
            " [  34   12    2    0    0    0   45    0]\n",
            " [  27   13    2    0    0    0   40    0]\n",
            " [  19   10    2    0    0    0   25    0]\n",
            " [  36   13    2    0    0    0   40    1]\n",
            " [  23   11    2    0    0    0   15    0]\n",
            " [  41   10    2    1    0    0   45    0]\n",
            " [  19    9    2    1    0    0   30    0]\n",
            " [  45    9    2    1    0    0   40    0]\n",
            " [  22   10    2    0    0    0   40    0]\n",
            " [  45    9    2    1    0    0   40    0]\n",
            " [  44    9    2    1    0    0   40    0]\n",
            " [  41   10    2    0    0    0   24    0]\n",
            " [  24    9    2    0    0    0   40    0]\n",
            " [  34    7    2    1    0    0   40    0]\n",
            " [  34    9    2    1  594    0   60    0]\n",
            " [  44    9    2    0    0    0   40    0]\n",
            " [  19    9    2    0    0    0   40    0]\n",
            " [  42   12    2    1    0    0   40    1]\n",
            " [  38   10    2    1    0    0   50    0]\n",
            " [  54    9    2    1    0    0   40    0]\n",
            " [  52    8    2    1  594    0   40    0]\n",
            " [  25   10    2    0    0    0   20    0]\n",
            " [  24   13    2    1    0    0   40    0]\n",
            " [  47    9    2    0    0    0   40    0]\n",
            " [  53    3    2    0    0    0   30    0]\n",
            " [  24   10    2    1    0    0   50    0]\n",
            " [  36    9    2    1    0    0   40    0]\n",
            " [  57    2    2    0    0    0   30    0]\n",
            " [  34    9    2    0    0    0   40    0]\n",
            " [  35    9    2    0    0    0   40    0]\n",
            " [  33   11    2    0    0    0   40    1]\n",
            " [  24    9    2    0    0    0   40    0]\n",
            " [  48    9    2    0    0    0   37    0]\n",
            " [  36    9    2    1    0    0   40    0]\n",
            " [  30    9    2    1    0    0   45    0]\n",
            " [  45    7    2    0    0    0   20    0]\n",
            " [  65    5    2    0    0    0   24    0]\n",
            " [  30    9    2    1    0    0   60    0]\n",
            " [  47   10    2    0    0    0   40    0]\n",
            " [  49    6    2    0    0    0   40    0]\n",
            " [  30   13    2    0    0    0   40    1]\n",
            " [  44    8    2    1    0    0   40    1]\n",
            " [  42    9    2    1    0    0   40    1]\n",
            " [  23   10    2    1    0    0   40    0]\n",
            " [  24   10    2    0    0    0   45    0]\n",
            " [  40    8    2    1    0    0   40    0]\n",
            " [  45   10    2    1    0    0   40    0]\n",
            " [  36   10    2    0    0    0   40    0]\n",
            " [  31    9    2    0    0    0   40    0]\n",
            " [  45   10    2    0    0    0   40    0]\n",
            " [  36   10    2    0    0    0   36    0]\n",
            " [  56    9    2    0  594    0   20    0]\n",
            " [  32   10    2    0    0    0   40    0]\n",
            " [  29    7    2    1    0    0   40    0]\n",
            " [  37    9    2    1    0    0   40    0]\n",
            " [  42   10    2    0    0    0   38    0]\n",
            " [  22   10    2    1    0    0   20    0]\n",
            " [  25    9    2    1    0    0   40    0]\n",
            " [  24    9    2    1    0 1721   30    0]\n",
            " [  22   10    2    1    0    0   40    0]\n",
            " [  55    3    2    1    0    0   25    0]\n",
            " [  23    9    2    0    0    0    7    0]\n",
            " [  54    9    2    1    0    0   40    0]\n",
            " [  48   10    2    0    0    0   30    0]\n",
            " [  24   13    2    1    0    0   15    0]\n",
            " [  23    9    2    1    0    0   40    0]\n",
            " [  38   10    2    0    0    0   40    0]\n",
            " [  35    9    2    1    0    0   40    0]\n",
            " [  54   10    2    0    0    0   35    0]\n",
            " [  51    4    2    0    0    0   40    0]\n",
            " [  78    9    2    0 2964    0   40    0]\n",
            " [  23    9    2    0    0    0   40    0]\n",
            " [  41    9    2    0    0    0   35    0]]\n"
          ]
        }
      ]
    },
    {
      "cell_type": "code",
      "metadata": {
        "colab": {
          "base_uri": "https://localhost:8080/"
        },
        "id": "JoZtB-87CuEC",
        "outputId": "2b7858c9-5ede-4497-c9dc-2ce4cd0fd4da"
      },
      "source": [
        "#Array Creation:Race 3\n",
        "race_3=df[df[:,2]==3]\n",
        "print(race_3)"
      ],
      "execution_count": 14,
      "outputs": [
        {
          "output_type": "stream",
          "name": "stdout",
          "text": [
            "[[  25   10    3    0    0    0   40    0]\n",
            " [  33   10    3    0    0    0   40    0]\n",
            " [  65    7    3    1    0    0   40    0]\n",
            " [  28    4    3    1    0 2179   40    0]\n",
            " [  44    7    3    0    0    0   46    0]\n",
            " [  40   13    3    0    0    0   55    1]]\n"
          ]
        }
      ]
    },
    {
      "cell_type": "code",
      "metadata": {
        "colab": {
          "base_uri": "https://localhost:8080/"
        },
        "id": "ew4cMHLSC1Fr",
        "outputId": "10766281-bc22-418b-d820-0e9e919e40dc"
      },
      "source": [
        "#Array Creation :Race 4\n",
        "race_4=df[df[:,2]==4]\n",
        "print(race_4)"
      ],
      "execution_count": 15,
      "outputs": [
        {
          "output_type": "stream",
          "name": "stdout",
          "text": [
            "[[39 13  4 ...  0 40  0]\n",
            " [50 13  4 ...  0 13  0]\n",
            " [38  9  4 ...  0 40  0]\n",
            " ...\n",
            " [40 10  4 ...  0 40  0]\n",
            " [39 13  4 ...  0 50  1]\n",
            " [50  9  4 ...  0 40  0]]\n"
          ]
        }
      ]
    },
    {
      "cell_type": "code",
      "metadata": {
        "colab": {
          "base_uri": "https://localhost:8080/"
        },
        "id": "rb3InDCoC5b0",
        "outputId": "dd609de2-7410-44d1-f0b8-cd9d9b7a67dc"
      },
      "source": [
        "\n",
        "# Storing the length of array and Storing \n",
        "#Race_0\n",
        "len_0=len(race_0)\n",
        "print(\"Length of Race_0:\",len_0)\n",
        "\n",
        "#Race_1\n",
        "len_1=len(race_1)\n",
        "print(\"Length of Race_1:\",len_1)\n",
        "\n",
        "#Race_2\n",
        "len_2=len(race_2)\n",
        "print(\"Length of Race_2:\",len_2)\n",
        "\n",
        "#Race_3\n",
        "len_3=len(race_3)\n",
        "print(\"Length of Race_3:\",len_3)\n",
        "\n",
        "#Race_4\n",
        "len_4=len(race_4)\n",
        "print(\"Length of Race_4:\",len_4)"
      ],
      "execution_count": 16,
      "outputs": [
        {
          "output_type": "stream",
          "name": "stdout",
          "text": [
            "Length of Race_0: 10\n",
            "Length of Race_1: 27\n",
            "Length of Race_2: 110\n",
            "Length of Race_3: 6\n",
            "Length of Race_4: 848\n"
          ]
        }
      ]
    },
    {
      "cell_type": "code",
      "metadata": {
        "colab": {
          "base_uri": "https://localhost:8080/"
        },
        "id": "Q6CXEb4w8X80",
        "outputId": "f2b77411-e3e3-4d8c-d7a2-ec764232a956"
      },
      "source": [
        "# Minimum no of citizen \n",
        "min_citizen=min(len_0,len_1,len_2,len_3,len_4)\n",
        "min_citizen"
      ],
      "execution_count": 22,
      "outputs": [
        {
          "output_type": "execute_result",
          "data": {
            "text/plain": [
              "6"
            ]
          },
          "metadata": {},
          "execution_count": 22
        }
      ]
    },
    {
      "cell_type": "code",
      "metadata": {
        "colab": {
          "base_uri": "https://localhost:8080/"
        },
        "id": "4scU4EryC-fW",
        "outputId": "29683651-7074-46ab-c40f-01b10893e872"
      },
      "source": [
        "#Find out which race has minimum citizen\n",
        "\n",
        "min_citizen=min(len_0,len_1,len_2,len_3,len_4)\n",
        "if min_citizen==len_0:\n",
        "  print(\"race_0 has minimum citizen\")\n",
        "elif min_citizen==len_1:\n",
        "  print(\"race_1 has minimum citizen\")\n",
        "elif min_citizen==len_2:\n",
        "  print(\"race_2 has minimum citizen\")\n",
        "elif min_citizen==len_3:\n",
        "  print(\"race_3 has minimum citizen\")\n",
        "elif min_citizen==len_4:\n",
        "  print(\"race_4 has minimum citizen\")\n",
        "else:\n",
        "  print(\"Invalid \")"
      ],
      "execution_count": 23,
      "outputs": [
        {
          "output_type": "stream",
          "name": "stdout",
          "text": [
            "race_3 has minimum citizen\n"
          ]
        }
      ]
    },
    {
      "cell_type": "code",
      "metadata": {
        "colab": {
          "base_uri": "https://localhost:8080/"
        },
        "id": "FPeDwiGCDHhI",
        "outputId": "836755f4-389b-4438-fbad-a12da8fc9b28"
      },
      "source": [
        "# Store the number associated with the minority race in a variable called 'minority_race'(For eg: if \"len(race_5)\" is the minimum, store 5 in 'minority_race' because that is the index of the race having the least no. of citizens )\n",
        "\n",
        "if min_citizen==len_0:\n",
        "  minority_race=0\n",
        "  print(\"Minority Race:\",minority_race)\n",
        "elif min_citizen==len_1:\n",
        "  minority_race=1\n",
        "  print(\"Minority Race:\",minority_race)\n",
        "elif min_citizen==len_2:\n",
        "  minority_race=2\n",
        "  print(\"Minority Race:\",minority_race)\n",
        "elif min_citizen==len_3:\n",
        "  minority_race=3\n",
        "  print(\"Minority Race:\",minority_race)\n",
        "elif min_citizen==len_4:\n",
        "  minority_race=4\n",
        "  print(\"Minority Race:\",minority_race)\n",
        "else:\n",
        "  pass"
      ],
      "execution_count": 24,
      "outputs": [
        {
          "output_type": "stream",
          "name": "stdout",
          "text": [
            "Minority Race: 3\n"
          ]
        }
      ]
    },
    {
      "cell_type": "markdown",
      "metadata": {
        "id": "yrvxxR1WDkGE"
      },
      "source": [
        "Step 5: As per govt. records citizens above 60 should not work more than 25 hours a week. Let us check if the policy is in place"
      ]
    },
    {
      "cell_type": "code",
      "metadata": {
        "colab": {
          "base_uri": "https://localhost:8080/"
        },
        "id": "F5kX3KXPDdOs",
        "outputId": "5fde726d-2910-473a-f18f-de1316b90e2f"
      },
      "source": [
        "#Create a new subset array called 'senior_citizens' by filtering 'census' according to age>60 (age is the column with index 0)\n",
        "senior_citizen=df[df[:,0]>60]\n",
        "print(senior_citizen)"
      ],
      "execution_count": 25,
      "outputs": [
        {
          "output_type": "stream",
          "name": "stdout",
          "text": [
            "[[   79    10     4     1     0     0    20     0]\n",
            " [   67     6     4     1     0     0     2     0]\n",
            " [   76    14     4     1     0     0    40     1]\n",
            " [   61     9     4     1     0     0    40     0]\n",
            " [   70    10     4     1     0     0    40     0]\n",
            " [   64     7     4     1     0  2179    40     0]\n",
            " [   71    10     2     1     0  1816     2     0]\n",
            " [   68     2     4     0     0     0    20     0]\n",
            " [   66    11     4     0     0     0    20     0]\n",
            " [   64     2     4     1     0     0    40     0]\n",
            " [   90     9     2     1     0  2206    40     0]\n",
            " [   66     9     4     1  1409     0    50     0]\n",
            " [   75    11     4     0     0     0    20     0]\n",
            " [   65     9     4     0     0     0    40     0]\n",
            " [   64     9     4     1     0     0    40     1]\n",
            " [   61     9     4     1     0     0    40     1]\n",
            " [   65     9     4     1     0     0    16     0]\n",
            " [   77    10     4     1     0     0    40     0]\n",
            " [   62     9     4     0     0     0    24     0]\n",
            " [   76    14     4     1     0     0    10     0]\n",
            " [   63     9     4     1     0     0    45     0]\n",
            " [   66     9     4     1  2050     0    55     0]\n",
            " [   67     7     4     1     0     0     8     0]\n",
            " [   65     7     3     1     0     0    40     0]\n",
            " [   62    14     4     1     0     0    40     1]\n",
            " [   63     9     4     1     0     0    40     1]\n",
            " [   80     9     4     1     0     0    24     0]\n",
            " [   67    11     4     0     0     0    24     0]\n",
            " [   63     2     4     1     0     0    35     0]\n",
            " [   72     9     4     1     0     0    20     0]\n",
            " [   62     9     4     1     0     0    40     0]\n",
            " [   74    10     4     0     0     0     9     0]\n",
            " [   67    15     4     1 20051     0    48     1]\n",
            " [   72     7     4     0     0     0    40     0]\n",
            " [   69     7     4     0     0     0    40     0]\n",
            " [   65    10     4     1     0     0    30     1]\n",
            " [   65     5     2     0     0     0    24     0]\n",
            " [   71     9     4     1     0     0    15     0]\n",
            " [   70     5     4     0  1111     0    15     0]\n",
            " [   66     4     4     1     0     0     4     0]\n",
            " [   65     7     4     1  9386     0    59     1]\n",
            " [   61     9     4     1     0  2352    50     0]\n",
            " [   61     9     4     1     0     0    40     0]\n",
            " [   68     7     4     1     0     0    20     0]\n",
            " [   64    13     4     1     0     0    40     1]\n",
            " [   64     9     4     1     0     0    45     0]\n",
            " [   62     9     4     0     0     0    40     0]\n",
            " [   73     9     4     1     0     0    40     0]\n",
            " [   72     7     4     0     0     0    24     0]\n",
            " [   63     9     4     1     0     0     6     0]\n",
            " [   62    13     4     0     0     0    48     0]\n",
            " [   61    14     4     0     0     0    40     1]\n",
            " [   71    14     4     1 10605     0    40     1]\n",
            " [   63    10     4     1     0     0    15     0]\n",
            " [   63     4     4     1     0     0    55     0]\n",
            " [   67     9     1     1     0     0    40     1]\n",
            " [   81     9     4     1     0     0    30     0]\n",
            " [   64     9     4     1     0     0     5     0]\n",
            " [   67    13     4     1     0  2392    40     1]\n",
            " [   78     9     2     0  2964     0    40     0]\n",
            " [   63    11     4     0     0     0    20     0]]\n"
          ]
        }
      ]
    },
    {
      "cell_type": "markdown",
      "metadata": {
        "id": "_2yx0WvsDu3w"
      },
      "source": [
        "Add all the working hours(working hours is the column with index 6) of 'senior_citizens' and store it in a variable called 'working_hours_sum'"
      ]
    },
    {
      "cell_type": "code",
      "metadata": {
        "colab": {
          "base_uri": "https://localhost:8080/"
        },
        "id": "QOHG_HdjDrAY",
        "outputId": "a6c24f79-38fd-495c-d036-0e8a1da23dbf"
      },
      "source": [
        "\n",
        "working_hours_sum=sum(senior_citizen[:,6])\n",
        "print(working_hours_sum)"
      ],
      "execution_count": 26,
      "outputs": [
        {
          "output_type": "stream",
          "name": "stdout",
          "text": [
            "1917\n"
          ]
        }
      ]
    },
    {
      "cell_type": "code",
      "metadata": {
        "colab": {
          "base_uri": "https://localhost:8080/"
        },
        "id": "0TY-1EO9Dzo8",
        "outputId": "b3af9baa-60e5-4a26-c85b-a703fc314879"
      },
      "source": [
        "# Find the length of 'senior_citizens' and store it in a variable called 'senior_citizens_len'\n",
        "senior_citizen_len=len(senior_citizen)\n",
        "print(\"Total no of citizen with age>60 is\",senior_citizen_len)"
      ],
      "execution_count": 29,
      "outputs": [
        {
          "output_type": "stream",
          "name": "stdout",
          "text": [
            "Total no of citizen with age>60 is 61\n"
          ]
        }
      ]
    },
    {
      "cell_type": "code",
      "metadata": {
        "id": "y5Invgp_D5qi",
        "colab": {
          "base_uri": "https://localhost:8080/"
        },
        "outputId": "06e020da-84c5-448e-b5e3-c3b449359b05"
      },
      "source": [
        "#Finally find the average working hours of the senior citizens by dividing 'working_hours_sum' by 'senior_citizens_len' and store it in a variable called 'avg_working hours'.\n",
        "avg_working_hours=working_hours_sum/senior_citizen_len\n",
        "print(\"Avg working hours is\", avg_working_hours)"
      ],
      "execution_count": 30,
      "outputs": [
        {
          "output_type": "stream",
          "name": "stdout",
          "text": [
            "Avg working hours is 31.42622950819672\n"
          ]
        }
      ]
    },
    {
      "cell_type": "code",
      "metadata": {
        "colab": {
          "base_uri": "https://localhost:8080/"
        },
        "id": "RZPkJee_D7ow",
        "outputId": "0167cba4-cbc3-476c-b587-d9449f8144a1"
      },
      "source": [
        "#checking Government policy for senior citizen \n",
        "if (avg_working_hours<25):\n",
        "  print(\"Govt Policy is Followed\")\n",
        "else:\n",
        "  print(\"Govt Policy is Not Followed\")\n"
      ],
      "execution_count": 34,
      "outputs": [
        {
          "output_type": "stream",
          "name": "stdout",
          "text": [
            "Govt Policy is Not Followed\n"
          ]
        }
      ]
    },
    {
      "cell_type": "markdown",
      "metadata": {
        "id": "ivjbqTeUEALX"
      },
      "source": [
        "Let's check that higher educated people have better pay in general."
      ]
    },
    {
      "cell_type": "code",
      "metadata": {
        "colab": {
          "base_uri": "https://localhost:8080/"
        },
        "id": "VXeYp3jzD-32",
        "outputId": "9e431873-20b0-43bd-a8f8-966c3f731a2f"
      },
      "source": [
        "# Create two new subset arrays called 'high' and 'low' by filtering 'census' according to education-num>10 and education-num<=10 (education-num is the column with index 1) respectively.\n",
        "\n",
        "high=df[df[:,1]>10]\n",
        "low=df[df[:,1]<=10]\n",
        "\n",
        "print(\"high: \",high)\n",
        "print(\"low: \",low)"
      ],
      "execution_count": 38,
      "outputs": [
        {
          "output_type": "stream",
          "name": "stdout",
          "text": [
            "high:  [[39 13  4 ...  0 40  0]\n",
            " [50 13  4 ...  0 13  0]\n",
            " [28 13  2 ...  0 40  0]\n",
            " ...\n",
            " [45 14  4 ...  0 45  0]\n",
            " [48 13  4 ...  0 58  1]\n",
            " [39 13  4 ...  0 50  1]]\n",
            "low:  [[38  9  4 ...  0 40  0]\n",
            " [53  7  2 ...  0 40  0]\n",
            " [49  5  2 ...  0 16  0]\n",
            " ...\n",
            " [56  9  4 ...  0 55  1]\n",
            " [40 10  4 ...  0 40  0]\n",
            " [50  9  4 ...  0 40  0]]\n"
          ]
        }
      ]
    },
    {
      "cell_type": "code",
      "metadata": {
        "colab": {
          "base_uri": "https://localhost:8080/"
        },
        "id": "WiloHUhWETIU",
        "outputId": "62c13fdd-aa34-4694-a836-dcc69b7ede1c"
      },
      "source": [
        "#Calculating The Avg pay for High Educated People \n",
        "\n",
        "sum_high=sum(high[:,7])\n",
        "len_high=len(high[:,7])\n",
        "\n",
        "avg_pay=sum_high/len_high\n",
        "print(\"Average Pay of highly educated People is \",avg_pay)"
      ],
      "execution_count": 39,
      "outputs": [
        {
          "output_type": "stream",
          "name": "stdout",
          "text": [
            "Average Pay of highly educated People is  0.42813455657492355\n"
          ]
        }
      ]
    },
    {
      "cell_type": "code",
      "metadata": {
        "colab": {
          "base_uri": "https://localhost:8080/"
        },
        "id": "mwau08IKEX_G",
        "outputId": "0ceae8f3-b17d-4637-caf8-efd16b49ef32"
      },
      "source": [
        "#Calculating The Avg Pay for Low Educated People\n",
        "\n",
        "sum_low=sum(low[:,7])\n",
        "len_low=len(low[:,7])\n",
        "\n",
        "avg_pay=sum_low/len_low\n",
        "print(\"Average Pay of lowly educated People is \",avg_pay)\n"
      ],
      "execution_count": 40,
      "outputs": [
        {
          "output_type": "stream",
          "name": "stdout",
          "text": [
            "Average Pay of lowly educated People is  0.13649851632047477\n"
          ]
        }
      ]
    }
  ]
}